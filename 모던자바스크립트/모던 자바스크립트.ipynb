{
 "cells": [
  {
   "cell_type": "markdown",
   "metadata": {},
   "source": [
    "# 모던 자바스크립트"
   ]
  },
  {
   "cell_type": "markdown",
   "metadata": {},
   "source": [
    "## 1. 모던 자바스크립트 이해하기"
   ]
  },
  {
   "cell_type": "markdown",
   "metadata": {},
   "source": [
    "**Modern JavaScript**\n",
    "\n",
    "현시점에 사용하기 적합한 범위 내에서 최신 버전의 표준을 준수하는 자바스크립트"
   ]
  },
  {
   "cell_type": "markdown",
   "metadata": {},
   "source": [
    "1. 공식 문서\n",
    "\n",
    "ECMAScript의 공식 문서가 궁금하다면 아래 링크를 참고해 보세요.\n",
    "\n",
    "- ECMA-International 공식 ECMA-262문서 (https://ecma-international.org/publications-and-standards/standards/ecma-262/)\n",
    "\n",
    "2. 진행 현황\n",
    "\n",
    "지금까지 제정된 ECMAScript 표준 사항이나 과거 역사가 궁금하다면 아래 링크를 참고해 보세요.\n",
    "\n",
    "- 위키백과 - ECMA스크립트 (https://ko.wikipedia.org/wiki/ECMA%EC%8A%A4%ED%81%AC%EB%A6%BD%ED%8A%B8)\n",
    "\n",
    "3. 브라우저 지원 현황\n",
    "\n",
    "각각의 문법별로 브라우저의 지원 여부를 확인하고 싶다면 아래 링크들을 참고해 보세요.\n",
    "\n",
    "- 한눈에 확인하는 호환성 테이블 (https://ko.wikipedia.org/wiki/ECMA%EC%8A%A4%ED%81%AC%EB%A6%BD%ED%8A%B8)\n",
    "- 문법 검색으로 확인하는 호환성 테이블 (https://caniuse.com/)\n",
    "\n",
    "4. 버전의 정식 표기\n",
    "\n",
    "ES6부터는 연호를 사용해서 ES2015, ES2016이라고도 부른다는 점 배웠었죠? 개발자들 사이에서는 짧고 빠르게 소통하기 위해서 ES6, ES7이라는 용어를 사용하지만, 실제로 ECMA International에서 버전을 발표할 때 표기하는 정식 명칭은 연호를 사용해서 ECMAScript 2015라고 표기한다는 점! 참고해 두시면 좋을 것 같습니다.\n",
    "\n",
    "5. JavaScript vs ECMAScript\n",
    "\n",
    "간혹 JavaScript와 ECMAScript가 똑같다고 오해하는 경우가 있는데요. 둘 사이에는 명확한 차이가 있습니다!\n",
    "\n",
    "일단 첫 번째 차이점은, JavaScript는 **프로그래밍 언어**이고, ECMAScript는 **프로그래밍 언어의 표준**입니다. \n",
    "쉽게 생각하면 ECMAScript는 JavaScript가 갖추어야 할 내용을 정리해둔 **'설명서'**이고, JavaScript는 ECMAScript를 준수해서 만들어낸 **'결과물'** 이라고 생각할 수 있는데요. 참고로 ECMAScript가 JavaScript화 하기 위해 등장하긴 했지만, ECMAScript는 JavaScript 뿐만아니라 모든 스크립트 언어(scripting languages)가 지켜야 하는 표준입니다. 만약 여러분이 자바스크립트와 같은 언어를 직접 만들고자 한다면, 이 ECMAScript를 준수해야 한다는 것이죠!\n",
    "\n",
    "그리고 두 번째 차이점은 **JavaScript**는 ECMAScript를 기반으로 하지만 ECMAScript에 정의된 내용뿐만 아니라, **다른 부가적인 기능**도 있다는 겁니다. \n",
    "특히, 우리가 자바스크립트로 HTML 코드를 제어하기 위해 사용하는 DOM(Document Object Model)을 다루는 문법들은 ECMAScript에 표준화된 문법이 아니라 **WebIDL**에서 표준화된 기술이라고 할 수 있습니다.\n",
    "\n",
    "JavaScript와 ECMAScript의 차이. 이제는 잘 구분할 수 있겠죠?"
   ]
  },
  {
   "cell_type": "markdown",
   "metadata": {},
   "source": [
    "## 2. 자바스크립트의 동작원리"
   ]
  },
  {
   "cell_type": "markdown",
   "metadata": {},
   "source": []
  },
  {
   "cell_type": "markdown",
   "metadata": {},
   "source": [
    "## 3. 함수 다루기"
   ]
  },
  {
   "cell_type": "markdown",
   "metadata": {},
   "source": [
    "## 4. 자바스크립트의 문법과 표현"
   ]
  },
  {
   "cell_type": "markdown",
   "metadata": {},
   "source": [
    "## 5. 자바스크립트의 유용한 내부 기능"
   ]
  },
  {
   "cell_type": "markdown",
   "metadata": {},
   "source": [
    "## 6. 자바스크립트 모듈"
   ]
  }
 ],
 "metadata": {
  "language_info": {
   "name": "python"
  }
 },
 "nbformat": 4,
 "nbformat_minor": 2
}
